{
 "cells": [
  {
   "cell_type": "code",
   "execution_count": 41,
   "metadata": {},
   "outputs": [
    {
     "name": "stdout",
     "output_type": "stream",
     "text": [
      "Status: Optimal\n",
      "ilosc_A = 10.0\n",
      "ilosc_B = 0.0\n",
      "zysk =  298500.0\n",
      "ilosc dni pracy R=  30.0\n",
      "ilosc dni pracy i=  25.0\n",
      "ilosc dni pracy L=  15.0\n"
     ]
    }
   ],
   "source": [
    "from pulp import *\n",
    "# Create the 'prob' variable to contain the problem data\n",
    "prob = LpProblem(\"The meble problem\",LpMaximize)\n",
    "LpVariable(\"example\", None, 100)\n",
    "LpVariable(\"example\", upBound = 100)\n",
    "# The 2 variables Beef and Chicken are created with a lower limit of zero\n",
    "n=LpVariable(\"ilosc A\",0,None,LpInteger)\n",
    "m=LpVariable(\"ilosc B\",0,None,LpInteger)\n",
    "\n",
    "# The objective function is added to 'prob' first\n",
    "prob += n*40000+m*50000-300*(3*n+4*m)-1400*(n*5+m*6)-1500*(1.5*n+3*m), \"calkowita ilosc\"\n",
    "# The five constraints are entered\n",
    "prob += 3*n + 4*m  <= 30, \"Calkowita ilosc wyprodukowanych krzesel i regalow R\"\n",
    "prob += 5*n + 6*m  <= 60, \"Calkowita ilosc wyprodukowanych krzesel i regalow I\"\n",
    "prob += 1.5*n + 3*m <= 21, \"Calkowita ilosc wyprodukowanych krzesel i regalow L\"\n",
    "iloscr=3*n+4*m\n",
    "iloscl=1.5*n+3*m\n",
    "ilosci=(5*n+6*m)/2\n",
    "# The problem data is written to an .lp file\n",
    "prob.writeLP(\"Meble.lp\")\n",
    "# The problem is solved using PuLP's choice of Solver\n",
    "prob.solve()\n",
    "# The status of the solution is printed to the screen\n",
    "print(\"Status:\", LpStatus[prob.status])\n",
    "# Each of the variables is printed with it's resolved optimum value\n",
    "for v in prob.variables():\n",
    "    print(v.name, \"=\", v.varValue)\n",
    "    # The optimised objective function value is printed to the screen\n",
    "print(\"zysk = \", value(prob.objective))\n",
    "print(\"ilosc dni pracy R= \", value(iloscr))\n",
    "print(\"ilosc dni pracy i= \", value(ilosci))\n",
    "print(\"ilosc dni pracy L= \", value(iloscl))"
   ]
  },
  {
   "cell_type": "code",
   "execution_count": 5,
   "metadata": {},
   "outputs": [
    {
     "data": {
      "text/plain": [
       "The Whiskas Problem:\n",
       "MAXIMIZE\n",
       "40000*ilosc_A + 50000*ilosc_B + 0\n",
       "SUBJECT TO\n",
       "Calkowita_ilosc_wyprodukowanych_krzesel_i_regalow_R: 3 ilosc_A + 4 ilosc_B\n",
       " <= 30\n",
       "\n",
       "Calkowita_ilosc_wyprodukowanych_krzesel_i_regalow_I: 5 ilosc_A + 6 ilosc_B\n",
       " <= 60\n",
       "\n",
       "Calkowita_ilosc_wyprodukowanych_krzesel_i_regalow_L: 1.5 ilosc_A + 3 ilosc_B\n",
       " <= 21\n",
       "\n",
       "VARIABLES\n",
       "0 <= ilosc_A Integer\n",
       "0 <= ilosc_B Integer"
      ]
     },
     "execution_count": 5,
     "metadata": {},
     "output_type": "execute_result"
    }
   ],
   "source": [
    "prob"
   ]
  },
  {
   "cell_type": "code",
   "execution_count": null,
   "metadata": {},
   "outputs": [],
   "source": []
  }
 ],
 "metadata": {
  "kernelspec": {
   "display_name": "Python 3",
   "language": "python",
   "name": "python3"
  },
  "language_info": {
   "codemirror_mode": {
    "name": "ipython",
    "version": 3
   },
   "file_extension": ".py",
   "mimetype": "text/x-python",
   "name": "python",
   "nbconvert_exporter": "python",
   "pygments_lexer": "ipython3",
   "version": "3.5.2"
  }
 },
 "nbformat": 4,
 "nbformat_minor": 2
}
