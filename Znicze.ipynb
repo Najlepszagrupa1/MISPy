{
 "cells": [
  {
   "cell_type": "code",
   "execution_count": 1,
   "metadata": {},
   "outputs": [
    {
     "ename": "ImportError",
     "evalue": "No module named 'matplotlib'",
     "output_type": "error",
     "traceback": [
      "\u001b[0;31m---------------------------------------------------------------------------\u001b[0m",
      "\u001b[0;31mImportError\u001b[0m                               Traceback (most recent call last)",
      "\u001b[0;32m<ipython-input-1-e9c5c222db73>\u001b[0m in \u001b[0;36m<module>\u001b[0;34m\u001b[0m\n\u001b[1;32m      1\u001b[0m \u001b[0;32mimport\u001b[0m \u001b[0mnumpy\u001b[0m \u001b[0;32mas\u001b[0m \u001b[0mnp\u001b[0m\u001b[0;34m\u001b[0m\u001b[0m\n\u001b[0;32m----> 2\u001b[0;31m \u001b[0;32mimport\u001b[0m \u001b[0mmatplotlib\u001b[0m\u001b[0;34m.\u001b[0m\u001b[0mpyplot\u001b[0m \u001b[0;32mas\u001b[0m \u001b[0mplt\u001b[0m\u001b[0;34m\u001b[0m\u001b[0m\n\u001b[0m\u001b[1;32m      3\u001b[0m \u001b[0mget_ipython\u001b[0m\u001b[0;34m(\u001b[0m\u001b[0;34m)\u001b[0m\u001b[0;34m.\u001b[0m\u001b[0mrun_line_magic\u001b[0m\u001b[0;34m(\u001b[0m\u001b[0;34m'matplotlib'\u001b[0m\u001b[0;34m,\u001b[0m \u001b[0;34m'inline'\u001b[0m\u001b[0;34m)\u001b[0m\u001b[0;34m\u001b[0m\u001b[0m\n\u001b[1;32m      4\u001b[0m \u001b[0;34m\u001b[0m\u001b[0m\n\u001b[1;32m      5\u001b[0m \u001b[0;34m\u001b[0m\u001b[0m\n",
      "\u001b[0;31mImportError\u001b[0m: No module named 'matplotlib'"
     ]
    }
   ],
   "source": [
    "import numpy as np\n",
    "import matplotlib.pyplot as plt\n",
    "%matplotlib inline\n",
    "\n",
    "\n",
    "x = np.linspace(0, 100, 2000)\n",
    "\n",
    "y1 = (180-1.2*x)/2\n",
    "y2 = (16-0.2*x)*10\n",
    "y3 = 0*x+80\n",
    "\n",
    "# Make plot\n",
    "plt.plot(x, y1, label=r'$1.2*x_1+2*x_2 <= 180$')\n",
    "plt.plot(x, y2, label=r'$0.2*x_1+0.1*x_2<= 16$')\n",
    "plt.plot(x, y3, label=r'$x_2<=80$')\n",
    "plt.xlim((0, 100))\n",
    "plt.ylim((0, 200))\n",
    "plt.xlabel(r'$x_1$')\n",
    "plt.ylabel(r'$x_2$')\n",
    "\n",
    "# Fill feasible region\n",
    "y5 = np.maximum(y1, 0)\n",
    "y6 = np.maximum(y2, 0)\n",
    "plt.fill_between(x,0, y5, color='black', alpha=0.33)\n",
    "plt.fill_between(x,0, y6, color='black', alpha=0.33)\n",
    "plt.fill_between(x,0, y3, color='black', alpha=0.33)\n",
    "\n",
    "plt.legend(bbox_to_anchor=(1.05, 1), loc=2, borderaxespad=0.)"
   ]
  },
  {
   "cell_type": "code",
   "execution_count": 2,
   "metadata": {},
   "outputs": [],
   "source": [
    "import pulp\n",
    "\n",
    "problem_znicze = pulp.LpProblem(\"Problem znicze\", pulp.LpMaximize)\n",
    "\n",
    "x_1 = pulp.LpVariable('x_1', lowBound=0, cat='Continuous')\n",
    "x_2 = pulp.LpVariable('x_2', lowBound=0, cat='Continuous')"
   ]
  },
  {
   "cell_type": "code",
   "execution_count": 3,
   "metadata": {},
   "outputs": [],
   "source": [
    "# Objective function\n",
    "problem_znicze += 2 * x_1 + 2.5 * x_2, \"Z\"\n",
    "\n",
    "# Constraints\n",
    "problem_znicze += 1.2*x_1+2*x_2 <= 180, \"ilosc plastiku\"\n",
    "problem_znicze += 0.2*x_1+0.1*x_2<= 16, \"wydajnosc maszyn\"\n",
    "problem_znicze += x_2<=80, \"ilosc dodatkow\""
   ]
  },
  {
   "cell_type": "code",
   "execution_count": 4,
   "metadata": {},
   "outputs": [
    {
     "data": {
      "text/plain": [
       "Problem znicze:\n",
       "MAXIMIZE\n",
       "2*x_1 + 2.5*x_2 + 0.0\n",
       "SUBJECT TO\n",
       "ilosc_plastiku: 1.2 x_1 + 2 x_2 <= 180\n",
       "\n",
       "wydajnosc_maszyn: 0.2 x_1 + 0.1 x_2 <= 16\n",
       "\n",
       "ilosc_dodatkow: x_2 <= 80\n",
       "\n",
       "VARIABLES\n",
       "x_1 Continuous\n",
       "x_2 Continuous"
      ]
     },
     "execution_count": 4,
     "metadata": {},
     "output_type": "execute_result"
    }
   ],
   "source": [
    "problem_znicze"
   ]
  },
  {
   "cell_type": "code",
   "execution_count": 5,
   "metadata": {},
   "outputs": [
    {
     "data": {
      "text/plain": [
       "1"
      ]
     },
     "execution_count": 5,
     "metadata": {},
     "output_type": "execute_result"
    }
   ],
   "source": [
    "problem_znicze.solve()"
   ]
  },
  {
   "cell_type": "code",
   "execution_count": 6,
   "metadata": {},
   "outputs": [
    {
     "name": "stdout",
     "output_type": "stream",
     "text": [
      "x_1 = 50.0\n",
      "x_2 = 60.0\n"
     ]
    }
   ],
   "source": [
    "for variable in problem_znicze.variables():\n",
    "    print(\"{} = {}\".format(variable.name, variable.varValue))"
   ]
  },
  {
   "cell_type": "code",
   "execution_count": 7,
   "metadata": {},
   "outputs": [
    {
     "name": "stdout",
     "output_type": "stream",
     "text": [
      "250.0\n"
     ]
    }
   ],
   "source": [
    "print(pulp.value(problem_znicze.objective))"
   ]
  },
  {
   "cell_type": "code",
   "execution_count": 8,
   "metadata": {},
   "outputs": [
    {
     "name": "stdout",
     "output_type": "stream",
     "text": [
      "\n",
      "Sensitivity Analysis\n",
      "\n",
      "        Name\tConstraint\t\t\tShadow Price\t\tSlack\n",
      "ilosc_plastiku    : 1.2*x_1 + 2*x_2 <= 180.0          1.0714286         -0.0      \n",
      "wydajnosc_maszyn  : 0.2*x_1 + 0.1*x_2 <= 16.0         3.5714286         -0.0      \n",
      "ilosc_dodatkow    : x_2 <= 80                         -0.0              20.0      \n"
     ]
    }
   ],
   "source": [
    "print(\"\"\"\\nSensitivity Analysis\\n\n",
    "        Name\\tConstraint\\t\\t\\tShadow Price\\t\\tSlack\"\"\")\n",
    "for name, c in problem_znicze.constraints.items():\n",
    "    print(str(name).ljust(17), \":\", str(c).ljust(33), str(c.pi).ljust(17), str(c.slack).ljust(10))"
   ]
  },
  {
   "cell_type": "code",
   "execution_count": null,
   "metadata": {},
   "outputs": [],
   "source": []
  }
 ],
 "metadata": {
  "kernelspec": {
   "display_name": "Python 3",
   "language": "python",
   "name": "python3"
  },
  "language_info": {
   "codemirror_mode": {
    "name": "ipython",
    "version": 3
   },
   "file_extension": ".py",
   "mimetype": "text/x-python",
   "name": "python",
   "nbconvert_exporter": "python",
   "pygments_lexer": "ipython3",
   "version": "3.5.2"
  }
 },
 "nbformat": 4,
 "nbformat_minor": 2
}
